{
 "cells": [
  {
   "cell_type": "code",
   "execution_count": 1,
   "metadata": {},
   "outputs": [],
   "source": [
    "import pymongo"
   ]
  },
  {
   "cell_type": "code",
   "execution_count": 2,
   "metadata": {},
   "outputs": [],
   "source": [
    "conn = 'mongodb://localhost:27017'"
   ]
  },
  {
   "cell_type": "code",
   "execution_count": 3,
   "metadata": {},
   "outputs": [],
   "source": [
    "client = pymongo.MongoClient(conn)"
   ]
  },
  {
   "cell_type": "code",
   "execution_count": 4,
   "metadata": {},
   "outputs": [],
   "source": [
    "db = client.Dumpster_DB"
   ]
  },
  {
   "cell_type": "code",
   "execution_count": 22,
   "metadata": {},
   "outputs": [],
   "source": [
    "resultado = db.divers.find()"
   ]
  },
  {
   "cell_type": "code",
   "execution_count": 23,
   "metadata": {},
   "outputs": [
    {
     "name": "stdout",
     "output_type": "stream",
     "text": [
      "{'_id': ObjectId('5cda1d272a0f99bafa2e5928'), 'name': 'Yozgart', 'yearsDiving': 41.0, 'StillDiving': True, 'bestFindings': ['Money', 'Phone', 'Watch']}\n",
      "{'_id': ObjectId('5cda1d2c2a0f99bafa2e5929'), 'name': 'Caleb', 'yearsDiving': 6.0, 'StillDiving': False, 'bestFindings': ['Go Pro', 'Glasses']}\n",
      "{'_id': ObjectId('5cda1d332a0f99bafa2e592a'), 'name': 'Tanya', 'yearsDiving': 42.0, 'StillDiving': True, 'bestFindings': ['Gun', 'Silver', 'S10']}\n",
      "{'_id': ObjectId('5cda1d392a0f99bafa2e592b'), 'name': 'Fabiola', 'yearsDiving': 28.0, 'StillDiving': False, 'bestFindings': ['Laptop', 'Coins', 'Watch']}\n",
      "{'_id': ObjectId('5cda1d3f2a0f99bafa2e592c'), 'name': 'Rafael', 'yearsDiving': 27.0, 'StillDiving': True, 'bestFindings': ['iPhone', 'Drone', 'knife']}\n",
      "{'_id': ObjectId('5cda1d442a0f99bafa2e592d'), 'name': 'Leonardo', 'yearsDiving': 17.0, 'StillDiving': False, 'bestFindings': ['Gun', 'Money', 'Jewerly', 'Lines']}\n",
      "{'_id': ObjectId('5cda23a964abf1919cea4b71'), 'name': 'Luis', 'yearsDiving': 10, 'StillDiving': True, 'bestFindings': ['mouse', 'car', 'plane']}\n",
      "{'_id': ObjectId('5cda240887b85b7cb650fd19'), 'name': 'Kira', 'yearsDiving': 6, 'StillDiving': True, 'bestFindings': ['raya', 'treasure', 'silver', 'Headphones']}\n"
     ]
    }
   ],
   "source": [
    "for x in resultado:\n",
    "    print(x)"
   ]
  },
  {
   "cell_type": "code",
   "execution_count": 7,
   "metadata": {},
   "outputs": [
    {
     "data": {
      "text/plain": [
       "<pymongo.results.InsertOneResult at 0x1c5cb4afc88>"
      ]
     },
     "execution_count": 7,
     "metadata": {},
     "output_type": "execute_result"
    }
   ],
   "source": [
    "db.divers.insert_one(\n",
    "    {\n",
    "        'name': 'Kira',\n",
    "        'yearsDiving':3,\n",
    "        'StillDiving': False,\n",
    "        'bestFindings':['raya','treasure','silver']\n",
    "    }\n",
    ")"
   ]
  },
  {
   "cell_type": "code",
   "execution_count": 18,
   "metadata": {},
   "outputs": [
    {
     "data": {
      "text/plain": [
       "<pymongo.results.UpdateResult at 0x1c5cb4af748>"
      ]
     },
     "execution_count": 18,
     "metadata": {},
     "output_type": "execute_result"
    }
   ],
   "source": [
    "db.divers.update_one(\n",
    "    {\n",
    "        'name': 'Kira'\n",
    "    },\n",
    "    {\n",
    "        '$set':\n",
    "        {'yearsDiving': 6, 'StillDiving': True}\n",
    "    }\n",
    ")"
   ]
  },
  {
   "cell_type": "code",
   "execution_count": 21,
   "metadata": {},
   "outputs": [
    {
     "data": {
      "text/plain": [
       "<pymongo.results.UpdateResult at 0x1c5cb336988>"
      ]
     },
     "execution_count": 21,
     "metadata": {},
     "output_type": "execute_result"
    }
   ],
   "source": [
    "db.divers.update_one(\n",
    "    {\n",
    "        'name': 'Kira'\n",
    "    },\n",
    "    {\n",
    "        '$push':\n",
    "        {'bestFindings': 'Headphones'}\n",
    "    }\n",
    ")"
   ]
  },
  {
   "cell_type": "code",
   "execution_count": null,
   "metadata": {},
   "outputs": [],
   "source": [
    "# db.divers.update_one(\n",
    "#     {\n",
    "#         'name': 'Rafael'\n",
    "#     },\n",
    "#     {\n",
    "#         '$unset':\n",
    "#         {'bestFindings': \"\"}\n",
    "#     }\n",
    "# )"
   ]
  }
 ],
 "metadata": {
  "kernelspec": {
   "display_name": "Python 3",
   "language": "python",
   "name": "python3"
  },
  "language_info": {
   "codemirror_mode": {
    "name": "ipython",
    "version": 3
   },
   "file_extension": ".py",
   "mimetype": "text/x-python",
   "name": "python",
   "nbconvert_exporter": "python",
   "pygments_lexer": "ipython3",
   "version": "3.6.7"
  }
 },
 "nbformat": 4,
 "nbformat_minor": 2
}
